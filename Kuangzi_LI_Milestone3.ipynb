{
 "cells": [
  {
   "cell_type": "markdown",
   "metadata": {},
   "source": [
    "# Milestone 3: Model Training and Evaluation with PyTorch Lightning\n",
    "\n",
    "Welcome to Milestone 3 of LIS 640 – Introduction to Applied Deep Learning. In this milestone, you'll build upon your work from Milestones 1 and 2 by upgrading your neural network baseline to a more robust training framework using PyTorch Lightning and TensorBoard logging. You will also be exploring the advantages of different neural architectures (recurrent and convolutional neural networks) and different optimizers.\n",
    "\n",
    "## Purpose\n",
    "\n",
    "The goal of Milestone 3 is to:\n",
    "- **Explore advanced architectures:** The main goal of Milestone 3 is to strengthen your knowledge about and experience with popular neural architectures including convolutional neural networks (CNNs) and recurrent neural networks (RNNs).\n",
    "- **Streamline your model development:** Make sure you are working with easy-to-maintain Lightning modules.\n",
    "- **Enhance experiment tracking:** Integrate TensorBoard to log and visualize training metrics, making it easier to monitor performance and debug issues.\n",
    "- **Investigate optimizer effects:** Experiment with different optimizers (such as Adam, SGD, and RMSprop) to understand their impact on model training and performance.\n"
   ]
  },
  {
   "cell_type": "markdown",
   "metadata": {},
   "source": [
    "## Part 1: Benchmarking Feedforward NN vs. RNN on Sequence Data\n",
    "\n",
    "In this step, you'll compare the performance of a Recurrent Neural Network (RNN) against a Feedforward Neural Network (FFNN) on a dataset that contains sequential data. **For this exercise, you must use PyTorch Lightning to build your models and manage the training loop, as well as TensorBoard for logging and visualizing your training metrics.**\n",
    "\n",
    "### A. Choose Your Dataset\n",
    "\n",
    "- **Option 1:**  \n",
    "  Use one of the datasets from Milestone 1 **if it contains sequence data**.  \n",
    "  *For example, if your dataset involves time series, text, or any ordered data, it qualifies for this comparison.* In that case you have already done part B and can skip on to part C.\n",
    "\n",
    "- **Option 2:**  \n",
    "  If your Milestone 1 dataset does not include sequence data, search online for and download a dataset that features sequential information (e.g., time series forecasting, text classification, sensor data, etc.). Take inspiration from previous milestones on how to do part B (Data Preparation) for your new dataset.\n",
    "\n",
    "### B. Data Preparation\n",
    "\n",
    "1. **Create a Custom Dataset Class:**  \n",
    "   - Implement a PyTorch `Dataset` class that loads your sequence data.\n",
    "   - Include any necessary preprocessing steps (e.g., normalization, tokenization, padding for sequences).\n",
    "   - Ensure that your `__getitem__` method returns the data in a format suitable for your models.\n",
    "\n",
    "2. **Build DataLoaders:**  \n",
    "   - Use `torch.utils.data.DataLoader` to create train, validation, and test loaders.\n",
    "   - Choose appropriate batch sizes and shuffling to ensure effective training.\n",
    "\n",
    "### C. Model Implementation with PyTorch Lightning\n",
    "\n",
    "*Reuse implementations from Milestone 2 if that makes sense. The key difference now is that you should implement your models as PyTorch Lightning modules to take advantage of the built-in training loop and logging features.*\n",
    "\n",
    "1. **Feedforward Neural Network (FFNN):**  \n",
    "   - Implement a baseline feedforward network that treats the sequence data as independent features (e.g., by flattening the sequence).\n",
    "   - Keep the architecture simple to establish a baseline for comparison.\n",
    "\n",
    "2. **Recurrent Neural Network (RNN):**  \n",
    "   - Implement an RNN model (using LSTM or GRU) to handle the sequential nature of the data.\n",
    "   - Ensure that your model processes the sequence appropriately (e.g., using the final hidden state or an attention mechanism for prediction).\n",
    "\n",
    "*Remember to use the PyTorch Lightning `Trainer` for model training, and configure the module to log metrics to TensorBoard.*\n",
    "\n",
    "### D. Benchmarking and Evaluation\n",
    "\n",
    "1. **Training Both Models:**  \n",
    "   - Train both the FFNN and the RNN on your chosen dataset using similar training settings (e.g., number of epochs, learning rate, optimizer) to ensure a fair comparison.\n",
    "   - Use PyTorch Lightning’s `Trainer` to manage the training process.\n",
    "\n",
    "2. **Logging and Evaluation Metrics:**  \n",
    "   - Leverage TensorBoard logging to visualize training and validation metrics in real-time.\n",
    "   - Compare the performance of both models using metrics such as loss, accuracy, or any task-specific metric.\n",
    "   - Optionally, record additional statistics like training time or convergence behavior.\n",
    "\n",
    "3. **Document Your Findings:**  \n",
    "   - Summarize the dataset and preprocessing steps.\n",
    "   - Describe the architectures used for the FFNN and RNN.\n",
    "   - Provide a comparative analysis discussing which model performed better and why that might be the case.\n",
    "   - Include TensorBoard screenshots or logged results to support your analysis."
   ]
  },
  {
   "cell_type": "code",
   "execution_count": 1,
   "metadata": {},
   "outputs": [
    {
     "name": "stderr",
     "output_type": "stream",
     "text": [
      "c:\\Users\\likua\\AppData\\Local\\Programs\\Python\\Python312\\Lib\\site-packages\\tqdm\\auto.py:21: TqdmWarning: IProgress not found. Please update jupyter and ipywidgets. See https://ipywidgets.readthedocs.io/en/stable/user_install.html\n",
      "  from .autonotebook import tqdm as notebook_tqdm\n"
     ]
    }
   ],
   "source": [
    "# making word embeddings for rnn training\n",
    "from transformers import BertTokenizer, BertModel\n",
    "import torch \n",
    "import torch.nn as nn\n",
    "import pandas as pd\n",
    "import numpy as np\n",
    "from torch.utils.data import TensorDataset, DataLoader\n",
    "import pytorch_lightning as pl\n",
    "from pytorch_lightning.loggers import TensorBoardLogger\n",
    "import tensorboard\n"
   ]
  },
  {
   "cell_type": "code",
   "execution_count": 3,
   "metadata": {},
   "outputs": [],
   "source": [
    "\n",
    "# loading BERT tokenizer and model\n",
    "tokenizer = BertTokenizer.from_pretrained('bert-base-uncased')\n",
    "bert_model = BertModel.from_pretrained('bert-base-uncased')\n",
    "device = torch.device('cuda' if torch.cuda.is_available() else 'cpu')\n",
    "# reading csv file \n",
    "corpus = pd.read_csv(r\"D:\\Applied Deep Learning\\data\\combined_DF_new\\combined_new_df.csv\")\n",
    "\n",
    "max_length = 128  \n",
    "batch_size = 16  \n",
    "#make data into batch of 16, and max length of 128\n",
    "\n",
    "# make bert embeddings\n",
    "def encode_text(text):\n",
    "    encoding = tokenizer(text, padding='max_length', truncation=True, max_length=max_length, return_tensors='pt')\n",
    "    return encoding['input_ids'][0], encoding['attention_mask'][0]\n",
    "\n",
    "# convert all the texts into embeddings\n",
    "input_ids, attention_masks = zip(*corpus['text'].map(encode_text))\n",
    "input_ids = torch.stack(input_ids)           # shape: [num_samples, seq_len]\n",
    "attention_masks = torch.stack(attention_masks) # shape: [num_samples, seq_len]\n",
    "\n",
    "# building DataLoader\n",
    "dataset = TensorDataset(input_ids, attention_masks)\n",
    "dataloader = DataLoader(dataset, batch_size=batch_size, shuffle=False)\n"
   ]
  },
  {
   "cell_type": "code",
   "execution_count": 4,
   "metadata": {},
   "outputs": [
    {
     "name": "stdout",
     "output_type": "stream",
     "text": [
      "Embeddings shape: torch.Size([5124, 128, 768])\n"
     ]
    }
   ],
   "source": [
    "all_embeddings = []\n",
    "\n",
    "with torch.no_grad():\n",
    "    for batch in dataloader:\n",
    "        batch_input_ids, batch_attention_mask = batch\n",
    "        outputs = bert_model(batch_input_ids, attention_mask=batch_attention_mask)\n",
    "        # outputs.last_hidden_state: [batch_size, seq_len, 768]\n",
    "        all_embeddings.append(outputs.last_hidden_state)\n",
    "\n",
    "# combine all of the batches to get full embeddings\n",
    "# NOTE：shape of all_embeddings [num_samples, seq_len, 768]\n",
    "all_embeddings = torch.cat(all_embeddings, dim=0)\n",
    "print(\"Embeddings shape:\", all_embeddings.shape)"
   ]
  },
  {
   "cell_type": "markdown",
   "metadata": {},
   "source": [
    "# DATA SUMMARY\n",
    "Here, I still used the text dataset for embedding. As the data I am dealing with is text data, building up a time sequence for the tokens are necessary. THerefore, I set up the length for a time sequential data as 128 tokens for the embedding pattern learning (it was 512 at first but the memory exploded). Then. the embedding data were distributed in a form of this: [number of samples, length of tokens numbers for each sequential sample, word embedding demensions]. This data structure is suitable to feed to RNN model because it eaxmines sequential data. But when I am dealing with MLP, it can not work with sequential data, so I used mean(dim=1) to make the data look like this:[number of samples, word embedding demensions] "
   ]
  },
  {
   "cell_type": "code",
   "execution_count": null,
   "metadata": {},
   "outputs": [],
   "source": [
    "class RNNClassifier(nn.Module):\n",
    "    def __init__(self, input_size=768, hidden_size=128, num_classes=2):\n",
    "        super(RNNClassifier, self).__init__()\n",
    "        self.lstm = nn.LSTM(input_size, hidden_size, batch_first=True)# lstm is used here because it is more suitable for sequential data\n",
    "\n",
    "        self.fc = nn.Linear(hidden_size, num_classes)# linear layer to map the hidden state to the number of classes\n",
    "        self.softmax = nn.Softmax(dim=1)\n",
    "\n",
    "    def forward(self, x):\n",
    "        _, (hidden, _) = self.lstm(x)  # only need the last hidden state\n",
    "        out = self.fc(hidden[-1])  # feeding the last hidden state to the classifier\n",
    "\n",
    "        return self.softmax(out)  # use softmax for multi-class classification\n",
    "\n",
    "\n",
    "# building up the model\n",
    "model = RNNClassifier()"
   ]
  },
  {
   "cell_type": "code",
   "execution_count": 9,
   "metadata": {},
   "outputs": [
    {
     "name": "stderr",
     "output_type": "stream",
     "text": [
      "C:\\Users\\likua\\AppData\\Local\\Temp\\ipykernel_3548\\1611909435.py:25: UserWarning: To copy construct from a tensor, it is recommended to use sourceTensor.clone().detach() or sourceTensor.clone().detach().requires_grad_(True), rather than torch.tensor(sourceTensor).\n",
      "  x_embeddings = torch.tensor(all_embeddings).float()  # convert to float tensor\n",
      "GPU available: True (cuda), used: True\n",
      "TPU available: False, using: 0 TPU cores\n",
      "HPU available: False, using: 0 HPUs\n",
      "You are using a CUDA device ('NVIDIA GeForce RTX 4070 Laptop GPU') that has Tensor Cores. To properly utilize them, you should set `torch.set_float32_matmul_precision('medium' | 'high')` which will trade-off precision for performance. For more details, read https://pytorch.org/docs/stable/generated/torch.set_float32_matmul_precision.html#torch.set_float32_matmul_precision\n",
      "LOCAL_RANK: 0 - CUDA_VISIBLE_DEVICES: [0]\n",
      "\n",
      "  | Name  | Type          | Params | Mode \n",
      "------------------------------------------------\n",
      "0 | model | RNNClassifier | 460 K  | train\n",
      "------------------------------------------------\n",
      "460 K     Trainable params\n",
      "0         Non-trainable params\n",
      "460 K     Total params\n",
      "1.840     Total estimated model params size (MB)\n",
      "4         Modules in train mode\n",
      "0         Modules in eval mode\n",
      "c:\\Users\\likua\\AppData\\Local\\Programs\\Python\\Python312\\Lib\\site-packages\\pytorch_lightning\\trainer\\connectors\\data_connector.py:425: The 'train_dataloader' does not have many workers which may be a bottleneck. Consider increasing the value of the `num_workers` argument` to `num_workers=31` in the `DataLoader` to improve performance.\n"
     ]
    },
    {
     "name": "stdout",
     "output_type": "stream",
     "text": [
      "Epoch 19: 100%|██████████| 321/321 [00:01<00:00, 163.80it/s, v_num=2, val_loss_step=0.563, val_acc_step=0.750, val_loss_epoch=0.395, val_acc_epoch=0.917]"
     ]
    },
    {
     "name": "stderr",
     "output_type": "stream",
     "text": [
      "`Trainer.fit` stopped: `max_epochs=20` reached.\n"
     ]
    },
    {
     "name": "stdout",
     "output_type": "stream",
     "text": [
      "Epoch 19: 100%|██████████| 321/321 [00:01<00:00, 161.65it/s, v_num=2, val_loss_step=0.563, val_acc_step=0.750, val_loss_epoch=0.395, val_acc_epoch=0.917]\n"
     ]
    }
   ],
   "source": [
    "#use lightning to store and evaluate the model\n",
    "class RNNClassifierLightning(pl.LightningModule):\n",
    "    def __init__(self, input_size=768, hidden_size=128, num_classes=2, lr=0.001):\n",
    "        super(RNNClassifierLightning, self).__init__()\n",
    "\n",
    "        self.model = RNNClassifier(input_size, hidden_size, num_classes)\n",
    "        \n",
    "        self.lr = lr\n",
    "\n",
    "    def forward(self, x):\n",
    "        return self.model(x)\n",
    "\n",
    "    def training_step(self, batch, batch_idx):\n",
    "        x, y = batch\n",
    "        y_hat = self(x)\n",
    "        loss = nn.CrossEntropyLoss()(y_hat, y)\n",
    "        self.log('val_loss', loss, on_step=True, on_epoch=True, prog_bar=True)\n",
    "        self.log('val_acc', (y_hat.argmax(dim=1) == y).float().mean(), on_step=True, on_epoch=True, prog_bar=True)\n",
    "        return loss\n",
    "\n",
    "    def configure_optimizers(self):\n",
    "        return torch.optim.Adam(self.parameters(), lr=self.lr)\n",
    "logger = TensorBoardLogger('logs/', name='rnn_classifier')\n",
    "\n",
    "x_embeddings = torch.tensor(all_embeddings).float()  # convert to float tensor\n",
    "y_labels = torch.tensor(corpus['label'].values)  # convert to tensor\n",
    "\n",
    "LightningModel = RNNClassifierLightning()\n",
    "train_dataset = TensorDataset(x_embeddings, y_labels)\n",
    "train_dataloader = DataLoader(train_dataset, batch_size=batch_size, shuffle=True)\n",
    "trainer = pl.Trainer(max_epochs=20,accelerator='auto',logger=logger)  # use GPU if available\n",
    "trainer.fit(LightningModel, train_dataloader)\n",
    "# Save the model\n",
    "trainer.save_checkpoint(r\"C:\\Users\\likua\\OneDrive\\Desktop\\Model\\rnn_classifier.ckpt\")\n"
   ]
  },
  {
   "cell_type": "code",
   "execution_count": 48,
   "metadata": {},
   "outputs": [
    {
     "name": "stdout",
     "output_type": "stream",
     "text": [
      "['version_0', 'version_1']\n",
      "['epoch=19-step=6420.ckpt']\n",
      "Logs directory: d:\\Applied Deep Learning\\logs\\RNN_classifier\n"
     ]
    }
   ],
   "source": [
    "import os\n",
    "print(os.listdir(\"logs/RNN_classifier\"))\n",
    "print(os.listdir('logs/RNN_classifier/version_0/checkpoints'))\n",
    "print(\"Logs directory:\", os.path.abspath('logs/RNN_classifier'))"
   ]
  },
  {
   "cell_type": "markdown",
   "metadata": {},
   "source": [
    "# Model Summary -- RNN\n",
    "In this model class, I build up the model by using LSTM-- which is common among NLP tasks( I will use transformers everntually). Then, linear layer is used to map the tensors from 128 neurons to 2 numbers of classifications. Finally, softmax was used to convert the output to probabilities: Is the time sequential produced by \"English natives\"? Or it is made by Japanese?  Then, torch lightning has been used for model training and evaluation: not only did I used lightning, but also used logging for metrics evaluation-- learning about validation set loss and accuracy, in the end, I tried to store it in a .ckpt file as a practice of future use."
   ]
  },
  {
   "cell_type": "code",
   "execution_count": 8,
   "metadata": {},
   "outputs": [
    {
     "name": "stderr",
     "output_type": "stream",
     "text": [
      "C:\\Users\\likua\\AppData\\Local\\Temp\\ipykernel_24980\\2101745372.py:5: UserWarning: To copy construct from a tensor, it is recommended to use sourceTensor.clone().detach() or sourceTensor.clone().detach().requires_grad_(True), rather than torch.tensor(sourceTensor).\n",
      "  x_train = torch.tensor(all_embeddings, dtype=torch.float32)  # shape: (num_samples, seq_len, embedding_dim)\n"
     ]
    },
    {
     "name": "stdout",
     "output_type": "stream",
     "text": [
      "x_train shape: torch.Size([5124, 128, 768])\n",
      "y_train shape: torch.Size([5124])\n",
      "Epoch 1, Loss: 0.5076, Accuracy: 0.8002\n",
      "Epoch 2, Loss: 0.4877, Accuracy: 0.8160\n",
      "Epoch 3, Loss: 0.4708, Accuracy: 0.8372\n",
      "Epoch 4, Loss: 0.4575, Accuracy: 0.8525\n",
      "Epoch 5, Loss: 0.4505, Accuracy: 0.8583\n",
      "Epoch 6, Loss: 0.4457, Accuracy: 0.8610\n",
      "Epoch 7, Loss: 0.4384, Accuracy: 0.8714\n",
      "Epoch 8, Loss: 0.4315, Accuracy: 0.8765\n",
      "Epoch 9, Loss: 0.4245, Accuracy: 0.8860\n",
      "Epoch 10, Loss: 0.4224, Accuracy: 0.8874\n",
      "Epoch 11, Loss: 0.4199, Accuracy: 0.8915\n",
      "Epoch 12, Loss: 0.4177, Accuracy: 0.8915\n",
      "Epoch 13, Loss: 0.4151, Accuracy: 0.8964\n",
      "Epoch 14, Loss: 0.4074, Accuracy: 0.9028\n",
      "Epoch 15, Loss: 0.4050, Accuracy: 0.9059\n",
      "Epoch 16, Loss: 0.4050, Accuracy: 0.9063\n",
      "Epoch 17, Loss: 0.4052, Accuracy: 0.9055\n",
      "Epoch 18, Loss: 0.4018, Accuracy: 0.9104\n",
      "Epoch 19, Loss: 0.3971, Accuracy: 0.9155\n",
      "Epoch 20, Loss: 0.3969, Accuracy: 0.9143\n"
     ]
    }
   ],
   "source": [
    "import torch\n",
    "import torch.nn as nn\n",
    "from torch.utils.data import DataLoader, TensorDataset\n",
    "\n",
    "x_train = torch.tensor(all_embeddings, dtype=torch.float32)  # shape: (num_samples, seq_len, embedding_dim)\n",
    "print(\"x_train shape:\", x_train.shape)\n",
    "\n",
    "y_train = torch.tensor(corpus['label'].values, dtype=torch.long)  # shape: (num_samples,)\n",
    "y_train = y_train.squeeze()\n",
    "print(\"y_train shape:\", y_train.shape)\n",
    "\n",
    "batch_size = 4\n",
    "dataloader = DataLoader(TensorDataset(x_train, y_train), batch_size=batch_size, shuffle=True)\n",
    "\n",
    "criterion = nn.CrossEntropyLoss()\n",
    "optimizer = torch.optim.Adam(model.parameters(), lr=0.001)\n",
    "\n",
    "num_epochs = 20\n",
    "\n",
    "for epoch in range(num_epochs):\n",
    "    model.train()\n",
    "    total_loss = 0\n",
    "    total_correct = 0\n",
    "    total_samples = 0\n",
    "    \n",
    "    for batch_x, batch_y in dataloader:\n",
    "        optimizer.zero_grad()\n",
    "        \n",
    "        batch_x = batch_x.to(torch.float32)\n",
    "        batch_y = batch_y.to(torch.long)\n",
    "        \n",
    "        outputs = model(batch_x)  # the outpur would be (batch_size, seq_len, num_classes)\n",
    "        if outputs.dim() == 3:\n",
    "            outputs = outputs[:, -1, :]  # retrive the last time step output\n",
    "        \n",
    "        loss = criterion(outputs, batch_y)\n",
    "        loss.backward()\n",
    "        optimizer.step()\n",
    "        \n",
    "        total_loss += loss.item()\n",
    "        \n",
    "        # accuracy calculation: the output of the model is (batch_size, num_classes), and the label is (batch_size,)\n",
    "        _, predicted = torch.max(outputs, dim=1)\n",
    "        total_correct += (predicted == batch_y).sum().item()\n",
    "        total_samples += batch_y.size(0)\n",
    "    \n",
    "    avg_loss = total_loss / len(dataloader)\n",
    "    accuracy = total_correct / total_samples\n",
    "    print(f\"Epoch {epoch+1}, Loss: {avg_loss:.4f}, Accuracy: {accuracy:.4f}\")\n",
    "\n",
    "    \n",
    "\n",
    "\n",
    "\n"
   ]
  },
  {
   "cell_type": "markdown",
   "metadata": {},
   "source": [
    "Comparing it with MLP (FFNN)\n",
    "\n",
    "The following are the code for MLP"
   ]
  },
  {
   "cell_type": "code",
   "execution_count": 50,
   "metadata": {},
   "outputs": [],
   "source": [
    "# dfining MLP module class\n",
    "class MLP(nn.Module):\n",
    "    def __init__(self, input_size=768, hidden_size=128, num_classes=2):\n",
    "        super(MLP, self).__init__()\n",
    "        self.fc1 = nn.Linear(input_size, hidden_size)\n",
    "        self.relu = nn.ReLU()\n",
    "        self.fc2 = nn.Linear(hidden_size, num_classes)\n",
    "        self.softmax = nn.Softmax(dim=1) #do not use softmax here, because it is used in the loss function\n",
    "\n",
    "    def forward(self, x):\n",
    "        x=x.mean(dim=1)# the shape of x was  (batch_size, seq_len, embedding_dim),but now[4,768]\n",
    "        x = self.fc1(x)\n",
    "        x = self.relu(x)\n",
    "        x = self.fc2(x)\n",
    "        return x  # use softmax for multi-class classification\n",
    "logger = TensorBoardLogger('logs/', name='MLP_classifier')\n",
    "    \n",
    "\n",
    "    \n",
    "    \n",
    "# building up the model\n",
    "model = MLP()   \n"
   ]
  },
  {
   "cell_type": "code",
   "execution_count": 51,
   "metadata": {},
   "outputs": [
    {
     "name": "stdout",
     "output_type": "stream",
     "text": [
      "Original y_labels shape: torch.Size([5124])\n",
      "After squeeze, y_labels shape: torch.Size([5124])\n"
     ]
    }
   ],
   "source": [
    "y_labels = torch.tensor(corpus['label'].values).long()\n",
    "print(\"Original y_labels shape:\", y_labels.shape)\n",
    "y_labels = y_labels.squeeze()\n",
    "print(\"After squeeze, y_labels shape:\", y_labels.shape)\n"
   ]
  },
  {
   "cell_type": "code",
   "execution_count": 59,
   "metadata": {},
   "outputs": [
    {
     "name": "stderr",
     "output_type": "stream",
     "text": [
      "C:\\Users\\likua\\AppData\\Local\\Temp\\ipykernel_25060\\704573453.py:26: UserWarning: To copy construct from a tensor, it is recommended to use sourceTensor.clone().detach() or sourceTensor.clone().detach().requires_grad_(True), rather than torch.tensor(sourceTensor).\n",
      "  x_embeddings = torch.tensor(all_embeddings).float()  # convert to float tensor\n",
      "GPU available: True (cuda), used: True\n",
      "TPU available: False, using: 0 TPU cores\n",
      "HPU available: False, using: 0 HPUs\n",
      "LOCAL_RANK: 0 - CUDA_VISIBLE_DEVICES: [0]\n",
      "\n",
      "  | Name  | Type | Params | Mode \n",
      "---------------------------------------\n",
      "0 | model | MLP  | 98.7 K | train\n",
      "---------------------------------------\n",
      "98.7 K    Trainable params\n",
      "0         Non-trainable params\n",
      "98.7 K    Total params\n",
      "0.395     Total estimated model params size (MB)\n",
      "5         Modules in train mode\n",
      "0         Modules in eval mode\n",
      "c:\\Users\\likua\\AppData\\Local\\Programs\\Python\\Python312\\Lib\\site-packages\\pytorch_lightning\\trainer\\connectors\\data_connector.py:425: The 'train_dataloader' does not have many workers which may be a bottleneck. Consider increasing the value of the `num_workers` argument` to `num_workers=31` in the `DataLoader` to improve performance.\n"
     ]
    },
    {
     "name": "stdout",
     "output_type": "stream",
     "text": [
      "Epoch 19: 100%|██████████| 321/321 [00:01<00:00, 196.64it/s, v_num=0, val_loss_step=0.530, val_acc_step=0.750, val_loss_epoch=0.276, val_acc_epoch=0.873] "
     ]
    },
    {
     "name": "stderr",
     "output_type": "stream",
     "text": [
      "`Trainer.fit` stopped: `max_epochs=20` reached.\n"
     ]
    },
    {
     "name": "stdout",
     "output_type": "stream",
     "text": [
      "Epoch 19: 100%|██████████| 321/321 [00:01<00:00, 195.46it/s, v_num=0, val_loss_step=0.530, val_acc_step=0.750, val_loss_epoch=0.276, val_acc_epoch=0.873]\n"
     ]
    }
   ],
   "source": [
    "# use lightning to store and evaluate the model\n",
    "class MLPClassifierLightning(pl.LightningModule):\n",
    "    def __init__(self, input_size=768, hidden_size=128, num_classes=2, lr=0.001):\n",
    "        super(MLPClassifierLightning, self).__init__()\n",
    "\n",
    "        self.model = MLP(input_size, hidden_size, num_classes)\n",
    "        self.lr = lr\n",
    "\n",
    "    def forward(self, x):\n",
    "        return self.model(x)\n",
    "\n",
    "    def training_step(self, batch, batch_idx):\n",
    "        x, y = batch\n",
    "        y_hat = self(x)\n",
    "        loss = nn.CrossEntropyLoss()(y_hat, y)# we use the same loss here for fair comparison\n",
    "        acc= (y_hat.argmax(dim=1) == y).float().mean()\n",
    "        self.log('val_loss', loss, on_step=True, on_epoch=True, prog_bar=True)\n",
    "        self.log('val_acc', acc, on_step=True, on_epoch=True, prog_bar=True)\n",
    "        \n",
    "        \n",
    "        return loss\n",
    "\n",
    "    def configure_optimizers(self):\n",
    "        return torch.optim.Adam(self.parameters(), lr=self.lr)\n",
    "    \n",
    "x_embeddings = torch.tensor(all_embeddings).float()  # convert to float tensor\n",
    "y_labels = torch.tensor(corpus['label'].values).long().squeeze()\n",
    "  # convert to tensor, we need to make sure the label is long tensor\n",
    "\n",
    "train_dataset = TensorDataset(x_embeddings, y_labels)\n",
    "train_dataloader = DataLoader(train_dataset, batch_size=batch_size, shuffle=True)\n",
    "LightningModel = MLPClassifierLightning()\n",
    "trainer = pl.Trainer(max_epochs=20, accelerator='auto',logger=logger)  # use GPU if available, DO remember to set the logger here, or it will not work\n",
    "trainer.fit(LightningModel, train_dataloader)\n",
    "# Save the model\n",
    "trainer.save_checkpoint(r\"C:\\Users\\likua\\OneDrive\\Desktop\\Model\\mlp_classifier.ckpt\")\n",
    "\n",
    "    "
   ]
  },
  {
   "cell_type": "code",
   "execution_count": 60,
   "metadata": {},
   "outputs": [
    {
     "name": "stdout",
     "output_type": "stream",
     "text": [
      "['version_0']\n",
      "['epoch=19-step=6420.ckpt']\n",
      "Logs directory: d:\\Applied Deep Learning\\logs\\MLP_classifier\n"
     ]
    }
   ],
   "source": [
    "print(os.listdir(\"logs/MLP_classifier\"))\n",
    "print(os.listdir('logs/MLP_classifier/version_0/checkpoints'))\n",
    "print(\"Logs directory:\", os.path.abspath('logs/MLP_classifier'))"
   ]
  },
  {
   "cell_type": "markdown",
   "metadata": {},
   "source": [
    "# MLP\n",
    "Same procedure as RNN but the structure of the model is: Linear, ReLU and Linear, and the data I fed to MLP is different from RNN -- as it can not work with sequential tagged tensors. "
   ]
  },
  {
   "cell_type": "markdown",
   "metadata": {},
   "source": [
    "RNN performance:186.54it/s, v_num=19, val_loss_step=0.316, val_acc_step=1.000, val_loss_epoch=0.387, val_acc_epoch=0.926\n",
    "\n",
    "MLP(FFNN) performance: 258.25it/s, v_num=16, val_loss_step=0.233, val_acc_step=1.000, val_loss_epoch=0.278, val_acc_epoch=0.870\n",
    "\n",
    "In this model training session, I setted up learning rate = 0.001, traning epochs=20, loss type as Crossentropy loss, optimizer as Adam.  Both models are trained busing the same parameter. For RNN, I set up the length of sentence as 128 to capture time sequence pattern in BERT embedding while when I am training MLP, I used mean(dim=1) to make the tensor into 1 demension to fit into the shape of MLP(without sequential processing)\n",
    "\n",
    "Performance:\n",
    "For RNN model, the traninig speed is 186.54 it/s while MLP model speed is 258.25it/s, MLP model is faster.\n",
    "For the validation set loss, RNN is 0.387 while MLP is 0.278. There is lower loss for MLP.\n",
    "But look at the validation set accuracy: the accuracy for RNN is 0.926 while the accuracy for MLP is 0.870. This means that when computation resource is allowed, RNN would perform better in accuracy, and it is a giant leap in terms of accuracy in prediction. \n"
   ]
  },
  {
   "cell_type": "markdown",
   "metadata": {},
   "source": [
    "## Part 3: Benchmarking Feedforward NN vs. CNN on Image Data\n",
    "\n",
    "In this step, you'll compare the performance of a Convolutional Neural Network (CNN) against a Feedforward Neural Network (FFNN) on an image-based dataset. **For this exercise, you must use PyTorch Lightning to implement your models and manage training, and use TensorBoard for logging and visualizing your training metrics.**\n",
    "\n",
    "### A. Choose Your Dataset\n",
    "\n",
    "- **Option 1:**  \n",
    "  Use one of the datasets from Milestone 1 **if it contains image data**.  \n",
    "  *For example, if your dataset involves images for classification, segmentation, or any visual task, it qualifies for this comparison.*\n",
    "\n",
    "- **Option 2:**  \n",
    "  If your Milestone 1 dataset does not include image data, search online for and download an image dataset (e.g., Fashion MNIST, CIFAR-10, or any domain-specific image dataset).\n",
    "\n",
    "### B. Data Preparation\n",
    "\n",
    "1. **Create a Custom Dataset Class:**  \n",
    "   - Implement a PyTorch `Dataset` class that loads your image data.\n",
    "   - Include any necessary preprocessing steps (e.g., normalization, resizing, data augmentation).\n",
    "   - Ensure that your `__getitem__` method returns the data in a format suitable for your models.\n",
    "\n",
    "2. **Build DataLoaders:**  \n",
    "   - Use `torch.utils.data.DataLoader` to create train, validation, and test loaders.\n",
    "   - Choose appropriate batch sizes and apply shuffling to ensure effective training.\n",
    "\n",
    "### C. Model Implementation with PyTorch Lightning\n",
    "\n",
    "*Reuse or adapt implementations from Milestone 2 as needed. The key requirement is to implement your models as PyTorch Lightning modules to take advantage of the built-in training loop and logging features.*\n",
    "\n",
    "1. **Feedforward Neural Network (FFNN):**  \n",
    "   - Implement a baseline FFNN that treats image data as a flat vector (i.e., by flattening the image).\n",
    "   - Keep the architecture simple to serve as a baseline for comparison.\n",
    "\n",
    "2. **Convolutional Neural Network (CNN):**  \n",
    "   - Implement a CNN architecture that leverages convolutional layers to capture spatial hierarchies in the image data.\n",
    "   - Typical layers might include convolution, activation (ReLU), pooling, and fully connected layers.\n",
    "   - Ensure that your model architecture is designed to process image data effectively.\n",
    "\n",
    "*Remember to use the PyTorch Lightning `Trainer` for training and to configure your Lightning module to log metrics to TensorBoard.*\n",
    "\n",
    "### D. Benchmarking and Evaluation\n",
    "\n",
    "1. **Training Both Models:**  \n",
    "   - Train both the FFNN and the CNN on your chosen dataset using similar training settings (e.g., number of epochs, learning rate, optimizer) to ensure a fair comparison.\n",
    "   - Use PyTorch Lightning’s `Trainer` to manage the training process.\n",
    "\n",
    "2. **Logging and Evaluation Metrics:**  \n",
    "   - Leverage TensorBoard to log and visualize training and validation metrics in real-time.\n",
    "   - Compare the performance of both models using metrics such as loss, accuracy, or any task-specific evaluation metric.\n",
    "   - Optionally, record additional details like training time and convergence behavior.\n",
    "\n",
    "3. **Document Your Findings:**  \n",
    "   - Summarize the dataset and preprocessing steps.\n",
    "   - Describe the architectures used for both the FFNN and the CNN.\n",
    "   - Provide a comparative analysis discussing which model performed better and why, supported by TensorBoard screenshots or logged results."
   ]
  },
  {
   "cell_type": "code",
   "execution_count": 1,
   "metadata": {},
   "outputs": [
    {
     "name": "stderr",
     "output_type": "stream",
     "text": [
      "c:\\Users\\likua\\AppData\\Local\\Programs\\Python\\Python312\\Lib\\site-packages\\tqdm\\auto.py:21: TqdmWarning: IProgress not found. Please update jupyter and ipywidgets. See https://ipywidgets.readthedocs.io/en/stable/user_install.html\n",
      "  from .autonotebook import tqdm as notebook_tqdm\n"
     ]
    }
   ],
   "source": [
    "# CNN model for CV \n",
    "import torch\n",
    "import torch.nn as nn\n",
    "import  torch.optim as optim\n",
    "import tensorflow_datasets as tfds\n",
    "import tensorflow as tf\n",
    "from torchvision import datasets,transforms\n",
    "from torch.utils.data import DataLoader, TensorDataset\n",
    "import numpy as np\n",
    "import pandas as pd\n",
    "import pytorch_lightning as pl\n",
    "from pytorch_lightning.loggers import TensorBoardLogger\n",
    "import tensorboard\n",
    "import matplotlib.pyplot as plt\n",
    "import os\n",
    "os.system(\"tensorboard --logdir=lightning_logs\")\n",
    "log_dir=r'C:\\Users\\likua\\logs\\CNN_classifier'\n",
    "if not os.path.exists(log_dir):\n",
    "    os.makedirs(log_dir)\n",
    "logger = TensorBoardLogger(log_dir, name='CNN_classifier')\n"
   ]
  },
  {
   "cell_type": "code",
   "execution_count": 62,
   "metadata": {},
   "outputs": [
    {
     "name": "stdout",
     "output_type": "stream",
     "text": [
      "tfds.core.DatasetInfo(\n",
      "    name='emnist',\n",
      "    full_name='emnist/letters/3.1.0',\n",
      "    description=\"\"\"\n",
      "    The EMNIST dataset is a set of handwritten character digits derived from the NIST Special Database 19 and converted to a 28x28 pixel image format and dataset structure that directly matches the MNIST dataset.\n",
      "    \n",
      "    Note: Like the original EMNIST data, images provided here are inverted horizontally and rotated 90 anti-clockwise. You can use `tf.transpose` within `ds.map` to convert the images to a human-friendlier format.\n",
      "    \"\"\",\n",
      "    config_description=\"\"\"\n",
      "    EMNIST Letters\n",
      "    \"\"\",\n",
      "    homepage='https://www.nist.gov/itl/products-and-services/emnist-dataset',\n",
      "    data_dir='C:\\\\Users\\\\likua\\\\tensorflow_datasets\\\\emnist\\\\letters\\\\3.1.0',\n",
      "    file_format=tfrecord,\n",
      "    download_size=535.73 MiB,\n",
      "    dataset_size=44.14 MiB,\n",
      "    features=FeaturesDict({\n",
      "        'image': Image(shape=(28, 28, 1), dtype=uint8),\n",
      "        'label': ClassLabel(shape=(), dtype=int64, num_classes=37),\n",
      "    }),\n",
      "    supervised_keys=('image', 'label'),\n",
      "    disable_shuffling=False,\n",
      "    nondeterministic_order=False,\n",
      "    splits={\n",
      "        'test': <SplitInfo num_examples=14800, num_shards=1>,\n",
      "        'train': <SplitInfo num_examples=88800, num_shards=1>,\n",
      "    },\n",
      "    citation=\"\"\"@article{cohen_afshar_tapson_schaik_2017,\n",
      "        title={EMNIST: Extending MNIST to handwritten letters},\n",
      "        DOI={10.1109/ijcnn.2017.7966217},\n",
      "        journal={2017 International Joint Conference on Neural Networks (IJCNN)},\n",
      "        author={Cohen, Gregory and Afshar, Saeed and Tapson, Jonathan and Schaik, Andre Van},\n",
      "        year={2017}\n",
      "    }\"\"\",\n",
      ")\n"
     ]
    }
   ],
   "source": [
    "# loading tensorflow datasets for hand written English letters images\n",
    "dataset, info = tfds.load('emnist/letters', split='train',with_info=True,shuffle_files=True, as_supervised=True)\n",
    "\n",
    "print(info)"
   ]
  },
  {
   "cell_type": "code",
   "execution_count": 63,
   "metadata": {},
   "outputs": [
    {
     "data": {
      "image/png": "[encoded data removed]",
      "text/plain": [
       "<Figure size 640x480 with 1 Axes>"
      ]
     },
     "metadata": {},
     "output_type": "display_data"
    },
    {
     "data": {
      "image/png": "[encoded data removed]",
      "text/plain": [
       "<Figure size 640x480 with 1 Axes>"
      ]
     },
     "metadata": {},
     "output_type": "display_data"
    },
    {
     "data": {
      "image/png": "[encoded data removed]",
      "text/plain": [
       "<Figure size 640x480 with 1 Axes>"
      ]
     },
     "metadata": {},
     "output_type": "display_data"
    },
    {
     "data": {
      "image/png": "[encoded data removed]",
      "text/plain": [
       "<Figure size 640x480 with 1 Axes>"
      ]
     },
     "metadata": {},
     "output_type": "display_data"
    },
    {
     "data": {
      "image/png": "[encoded data removed]",
      "text/plain": [
       "<Figure size 640x480 with 1 Axes>"
      ]
     },
     "metadata": {},
     "output_type": "display_data"
    }
   ],
   "source": [
    "# let's  examine some samples for the dataset\n",
    "\n",
    "for example, label in dataset.take(5):\n",
    "    plt.imshow(example.numpy().squeeze(), cmap='gray')\n",
    "    plt.title(f'Label: {label.numpy()}')\n",
    "    plt.axis('off')\n",
    "    plt.show()"
   ]
  },
  {
   "cell_type": "code",
   "execution_count": 64,
   "metadata": {},
   "outputs": [],
   "source": [
    "# image preprocessing\n",
    "# As you can see, the images are 90 degree rotated, so we need to spin them back to the original position.\n",
    "# Also, we need to resize the images to 28x28 and normalize them to [0,1] range. That's why we use the preprocess function below.\n",
    "def preprocess(image, label):\n",
    "    image = tf.cast(image, tf.float32) / 255.0  # normalize to [0,1]\n",
    "    image = tf.transpose(image, perm=[1, 0, 2]) # spin the image to make it (height, width, channels)\n",
    "    image = tf.image.resize(image, [28, 28])  # resize to 28x28 for CNN input\n",
    "    return image, label\n",
    "\n",
    "dataset = dataset.map(preprocess)\n",
    "\n",
    "logger = TensorBoardLogger('logs/', name='CNN_classifier')# remember to setting up logger variable to store the log model\n",
    "\n"
   ]
  },
  {
   "cell_type": "code",
   "execution_count": 65,
   "metadata": {},
   "outputs": [
    {
     "data": {
      "image/png": "[encoded data removed]",
      "text/plain": [
       "<Figure size 640x480 with 1 Axes>"
      ]
     },
     "metadata": {},
     "output_type": "display_data"
    },
    {
     "data": {
      "image/png": "[encoded data removed]",
      "text/plain": [
       "<Figure size 640x480 with 1 Axes>"
      ]
     },
     "metadata": {},
     "output_type": "display_data"
    },
    {
     "data": {
      "image/png": "[encoded data removed]",
      "text/plain": [
       "<Figure size 640x480 with 1 Axes>"
      ]
     },
     "metadata": {},
     "output_type": "display_data"
    },
    {
     "data": {
      "image/png": "[encoded data removed]",
      "text/plain": [
       "<Figure size 640x480 with 1 Axes>"
      ]
     },
     "metadata": {},
     "output_type": "display_data"
    },
    {
     "data": {
      "image/png": "[encoded data removed]",
      "text/plain": [
       "<Figure size 640x480 with 1 Axes>"
      ]
     },
     "metadata": {},
     "output_type": "display_data"
    }
   ],
   "source": [
    "# let's check agein the dataset\n",
    "for example, label in dataset.take(5):\n",
    "    plt.imshow(example.numpy().squeeze(), cmap='gray')\n",
    "    plt.title(f'Label: {label.numpy()}')\n",
    "    plt.axis('off')\n",
    "    plt.show()\n",
    "\n"
   ]
  },
  {
   "cell_type": "markdown",
   "metadata": {},
   "source": [
    "...Now it looks like they are in good shape -- we can recognize what those letters are! Let's initialize dataloader for training and build up the CNN model then!"
   ]
  },
  {
   "cell_type": "code",
   "execution_count": 66,
   "metadata": {},
   "outputs": [],
   "source": [
    "# initializing the dataset and dataloader and parameters\n",
    "batch_size = 32\n",
    "epochs=10\n",
    "lr=0.001\n",
    "device = torch.device('cuda' if torch.cuda.is_available() else 'cpu')# use GPU if available\n",
    "transform= transforms.Compose([\n",
    "    transforms.ToTensor(),  # convert to tensor\n",
    "    transforms.Normalize((0.5,), (0.5,))  # normalize to [-1, 1]\n",
    "])\n",
    "\n",
    "train_dataset = datasets.EMNIST(root='data', split='letters', train=True, download=True, transform=transform)\n",
    "\n",
    "test_dataset = datasets.EMNIST(root='data', split='letters', train=False, download=True, transform=transform)\n",
    "\n",
    "# the original label is from 1 to 26, but we need to make it from 0 to 25 because the label is used as index in the model\n",
    "train_dataset.targets = train_dataset.targets - 1\n",
    "test_dataset.targets = test_dataset.targets - 1\n",
    "\n",
    "train_loader = DataLoader(train_dataset, batch_size=batch_size, shuffle=True)\n",
    "test_loader = DataLoader(test_dataset, batch_size=batch_size, shuffle=False)"
   ]
  },
  {
   "cell_type": "code",
   "execution_count": 67,
   "metadata": {},
   "outputs": [
    {
     "name": "stderr",
     "output_type": "stream",
     "text": [
      "GPU available: True (cuda), used: True\n",
      "TPU available: False, using: 0 TPU cores\n",
      "HPU available: False, using: 0 HPUs\n",
      "LOCAL_RANK: 0 - CUDA_VISIBLE_DEVICES: [0]\n",
      "\n",
      "  | Name       | Type       | Params | Mode \n",
      "--------------------------------------------------\n",
      "0 | con_layers | Sequential | 18.8 K | train\n",
      "1 | fc_layers  | Sequential | 1.6 M  | train\n",
      "--------------------------------------------------\n",
      "1.6 M     Trainable params\n",
      "0         Non-trainable params\n",
      "1.6 M     Total params\n",
      "6.553     Total estimated model params size (MB)\n",
      "13        Modules in train mode\n",
      "0         Modules in eval mode\n"
     ]
    },
    {
     "name": "stdout",
     "output_type": "stream",
     "text": [
      "                                                                           "
     ]
    },
    {
     "name": "stderr",
     "output_type": "stream",
     "text": [
      "c:\\Users\\likua\\AppData\\Local\\Programs\\Python\\Python312\\Lib\\site-packages\\pytorch_lightning\\trainer\\connectors\\data_connector.py:425: The 'val_dataloader' does not have many workers which may be a bottleneck. Consider increasing the value of the `num_workers` argument` to `num_workers=31` in the `DataLoader` to improve performance.\n"
     ]
    },
    {
     "name": "stdout",
     "output_type": "stream",
     "text": [
      "Epoch 9: 100%|██████████| 3900/3900 [00:40<00:00, 97.35it/s, v_num=5, train_loss_step=0.134, train_acc_step=0.938, val_loss_step=7.73e-6, val_acc_step=1.000, val_loss_epoch=0.194, val_acc_epoch=0.944, train_loss_epoch=0.116, train_acc_epoch=0.956]     "
     ]
    },
    {
     "name": "stderr",
     "output_type": "stream",
     "text": [
      "`Trainer.fit` stopped: `max_epochs=10` reached.\n"
     ]
    },
    {
     "name": "stdout",
     "output_type": "stream",
     "text": [
      "Epoch 9: 100%|██████████| 3900/3900 [00:40<00:00, 97.21it/s, v_num=5, train_loss_step=0.134, train_acc_step=0.938, val_loss_step=7.73e-6, val_acc_step=1.000, val_loss_epoch=0.194, val_acc_epoch=0.944, train_loss_epoch=0.116, train_acc_epoch=0.956]\n"
     ]
    }
   ],
   "source": [
    "class CNNreaderlightning(pl.LightningModule):# be careful with the name, it should be the same as the class name\n",
    "    def __init__(self):\n",
    "        super(CNNreaderlightning, self).__init__()\n",
    "        self.con_layers= nn.Sequential(\n",
    "            nn.Conv2d(1, 32, kernel_size=3, stride=1, padding=1),#input channel is 1 because the image is grayscale and output channel is 32, knernel size is 3x3, stride is 1, padding is 1\n",
    "            nn.ReLU(),\n",
    "            nn.MaxPool2d(kernel_size=2, stride=2),\n",
    "            nn.Conv2d(32, 64, kernel_size=3, stride=1, padding=1),\n",
    "            nn.ReLU(),\n",
    "            nn.MaxPool2d(kernel_size=2, stride=2)\n",
    "        )\n",
    "        self.fc_layers = nn.Sequential(\n",
    "            nn.Flatten(),\n",
    "            nn.Linear(64 * 7 * 7, 512),\n",
    "            nn.ReLU(),\n",
    "            nn.Dropout(0.5),\n",
    "            nn.Linear(512, 26)# 26 classes for English letters\n",
    "        )\n",
    "# in the CNN model, I defined the convolutional layers and fully connected layers separately, \n",
    "# because the input of the fully connected layer should be 2D tensor, but the output of the convolutional layers is 4D tensor.\n",
    "# So I need to add a flatten layer to make it 2D tensor.\n",
    "    def forward(self, x):\n",
    "        x = self.con_layers(x)\n",
    "        x = self.fc_layers(x)# NOTE to add the flatten layer here, because the input of the fully connected layer should be 2D tensor\n",
    "        return x\n",
    "    def training_step(self, batch, batch_idx):\n",
    "        x, y = batch\n",
    "        y_hat = self(x)\n",
    "        loss = nn.CrossEntropyLoss()(y_hat, y)\n",
    "        self.log('train_loss', loss, on_step=True, on_epoch=True, prog_bar=True)\n",
    "        self.log('train_acc', (y_hat.argmax(dim=1) == y).float().mean(), on_step=True, on_epoch=True, prog_bar=True)\n",
    "        return loss\n",
    "    \n",
    "    def validation_step(self, batch, batch_idx):\n",
    "        x, y = batch\n",
    "        y_hat = self(x)\n",
    "        loss = nn.CrossEntropyLoss()(y_hat, y)\n",
    "        self.log('val_loss', loss, on_step=True, on_epoch=True, prog_bar=True)\n",
    "        self.log('val_acc', (y_hat.argmax(dim=1) == y).float().mean(), on_step=True, on_epoch=True, prog_bar=True)\n",
    "        return loss\n",
    "    def configure_optimizers(self):\n",
    "        return torch.optim.Adam(self.parameters(), lr=lr)\n",
    "    \n",
    "# initializing the model and loss function and optimizer\n",
    "model = CNNreaderlightning().to(device)\n",
    "criterion = nn.CrossEntropyLoss()\n",
    "optimizer = optim.Adam(model.parameters(), lr=lr)\n",
    "\n",
    "logger = TensorBoardLogger('logs/', name='CNN_classifier') \n",
    "# training the model\n",
    "trainer = pl.Trainer(max_epochs=epochs, accelerator='auto', logger=logger)  # use GPU if available\n",
    "trainer.fit(model, train_loader, test_loader)\n"
   ]
  },
  {
   "cell_type": "code",
   "execution_count": 42,
   "metadata": {},
   "outputs": [
    {
     "name": "stdout",
     "output_type": "stream",
     "text": [
      "['version_0', 'version_1', 'version_2', 'version_3', 'version_4']\n",
      "['epoch=9-step=39000.ckpt']\n",
      "Logs directory: d:\\Applied Deep Learning\\logs\\CNN_classifier\n"
     ]
    }
   ],
   "source": [
    "print(os.listdir(\"logs/CNN_classifier\"))\n",
    "print(os.listdir('logs/CNN_classifier/version_3/checkpoints'))\n",
    "print(\"Logs directory:\", os.path.abspath('logs/CNN_classifier'))"
   ]
  },
  {
   "cell_type": "markdown",
   "metadata": {},
   "source": [
    "In this section, I used EMNIST dataset for hand written letter classification: it turns out that there are 14800 samples and the images have been fliped for 90 degrees. After I checked the image, I did the normalization work, fliped them and made them the size of 28 x 28 so that CNN could work with it.\n",
    "\n",
    "Then, I converted normalized and resized image into tensors and normalized them into the range of [-1,1]. What is more, I also created Tensorboard to log the traning process(recording loss and accuracy) when using lightning.\n",
    "\n",
    "Then, I splited the tensors into training set and validation set using utils.dataset and dataloader.\n",
    "\n",
    "For the model build-up, I defined two layers of neural networks: the first one is the CNN itself, the second one is the fully connection layer-- it connects the tensors being processed by CNN into the shape of CrossEntropy loss and conducting the multi-classification task.\n",
    "\n",
    "For the CNN model itself, I firstly made the channel from 1 to 32, and 32 to 64 to extract more features using 32 convolutional filters and 64 convolutional filters and then, I used pooling to extract the outstanding features after each filter computation. \n",
    "\n",
    "The result is: 08.10it/s, v_num=0, train_loss_step=0.263, train_acc_step=0.875, val_loss_step=0.00319, val_acc_step=1.000, val_loss_epoch=0.188, val_acc_epoch=0.940, train_loss_epoch=0.124, train_acc_epoch=0.954 \n",
    "\n",
    "It shows that in validation step, the accuracy is 0.94, and the loss is 0.188. There is a relatively high accuracy for the classification task, and there is also a small loss -- meaning it is relatively successful for generalization for the classification task."
   ]
  },
  {
   "cell_type": "code",
   "execution_count": 19,
   "metadata": {},
   "outputs": [
    {
     "name": "stdout",
     "output_type": "stream",
     "text": [
      "Epoch [1/10] | Train Loss: 0.4654 Acc: 0.8534 | Test Loss: 0.2259 Acc: 0.9266\n",
      "Epoch [2/10] | Train Loss: 0.2596 Acc: 0.9143 | Test Loss: 0.1956 Acc: 0.9342\n",
      "Epoch [3/10] | Train Loss: 0.2192 Acc: 0.9264 | Test Loss: 0.1926 Acc: 0.9361\n",
      "Epoch [4/10] | Train Loss: 0.1912 Acc: 0.9355 | Test Loss: 0.1856 Acc: 0.9376\n",
      "Epoch [5/10] | Train Loss: 0.1716 Acc: 0.9406 | Test Loss: 0.1877 Acc: 0.9386\n",
      "Epoch [6/10] | Train Loss: 0.1567 Acc: 0.9445 | Test Loss: 0.1797 Acc: 0.9427\n",
      "Epoch [7/10] | Train Loss: 0.1439 Acc: 0.9481 | Test Loss: 0.1808 Acc: 0.9423\n",
      "Epoch [8/10] | Train Loss: 0.1364 Acc: 0.9512 | Test Loss: 0.1851 Acc: 0.9407\n",
      "Epoch [9/10] | Train Loss: 0.1264 Acc: 0.9533 | Test Loss: 0.1875 Acc: 0.9425\n",
      "Epoch [10/10] | Train Loss: 0.1191 Acc: 0.9551 | Test Loss: 0.2015 Acc: 0.9417\n"
     ]
    }
   ],
   "source": [
    "# training the model\n",
    "def train(model, loader, optimizer, criterion):\n",
    "    model.train()\n",
    "    running_loss = 0.0\n",
    "    correct = 0\n",
    "    total = 0\n",
    "    \n",
    "    for images, labels in loader:\n",
    "        images, labels = images.to(device), labels.to(device)\n",
    "        \n",
    "        optimizer.zero_grad()\n",
    "        outputs = model(images)\n",
    "        loss = criterion(outputs, labels)\n",
    "        loss.backward()\n",
    "        optimizer.step()\n",
    "        \n",
    "        running_loss += loss.item()\n",
    "        _, predicted = torch.max(outputs.data, 1)\n",
    "        total += labels.size(0)\n",
    "        correct += (predicted == labels).sum().item()\n",
    "    \n",
    "    return running_loss/len(loader), correct/total\n",
    "\n",
    "# testing the model\n",
    "def test(model, loader, criterion):\n",
    "    model.eval()\n",
    "    running_loss = 0.0\n",
    "    correct = 0\n",
    "    total = 0\n",
    "    \n",
    "    with torch.no_grad():\n",
    "        for images, labels in loader:\n",
    "            images, labels = images.to(device), labels.to(device)\n",
    "            \n",
    "            outputs = model(images)\n",
    "            loss = criterion(outputs, labels)\n",
    "            \n",
    "            running_loss += loss.item()\n",
    "            _, predicted = torch.max(outputs.data, 1)\n",
    "            total += labels.size(0)\n",
    "            correct += (predicted == labels).sum().item()\n",
    "    \n",
    "    return running_loss/len(loader), correct/total\n",
    "\n",
    "\n",
    "\n",
    "# training loop\n",
    "train_losses = []\n",
    "train_accs = []\n",
    "test_losses = []\n",
    "test_accs = []\n",
    "\n",
    "for epoch in range(epochs):\n",
    "    train_loss, train_acc = train(model, train_loader, optimizer, criterion)\n",
    "    test_loss, test_acc = test(model, test_loader, criterion)\n",
    "    \n",
    "    train_losses.append(train_loss)\n",
    "    train_accs.append(train_acc)\n",
    "    test_losses.append(test_loss)\n",
    "    test_accs.append(test_acc)\n",
    "    \n",
    "    print(f\"Epoch [{epoch+1}/{epochs}] | \"\n",
    "          f\"Train Loss: {train_loss:.4f} Acc: {train_acc:.4f} | \"\n",
    "          f\"Test Loss: {test_loss:.4f} Acc: {test_acc:.4f}\")\n",
    "\n"
   ]
  },
  {
   "cell_type": "markdown",
   "metadata": {},
   "source": [
    "## Part 3: Comparing Optimizers and Analyzing Training Curves\n",
    "\n",
    "In this step, you'll experiment with different optimizers—SGD, Adam, and RMSProp—to understand how they affect model performance. You will compare their effects using evaluation metrics on held-out test data and analyze the training and validation curves logged in TensorBoard.\n",
    "\n",
    "### A. Experiment Setup\n",
    "\n",
    "1. **Maintain Consistent Training Settings:**  \n",
    "   - Use the same model architecture (whether FFNN, CNN, or RNN from Parts 1 and 2) and dataset for all experiments.\n",
    "   - Ensure that the number of epochs, batch size, learning rate, and other hyperparameters are kept constant across different optimizer runs, aside from the optimizer itself.\n",
    "\n",
    "2. **Implement Optimizer Switching:**  \n",
    "   - Modify the `configure_optimizers` method in your PyTorch Lightning module to easily switch between optimizers:\n",
    "     ```python\n",
    "     def configure_optimizers(self):\n",
    "         # Uncomment the optimizer you want to use\n",
    "         # return torch.optim.SGD(self.parameters(), lr=0.01)\n",
    "         # return torch.optim.Adam(self.parameters(), lr=1e-3)\n",
    "         # return torch.optim.RMSprop(self.parameters(), lr=1e-3)\n",
    "     ```\n",
    "   - Train your model separately with each optimizer.\n",
    "\n",
    "### B. Evaluation Metrics and Analysis\n",
    "\n",
    "1. **Held-Out Test Evaluation:**  \n",
    "   - After training, evaluate each model on a held-out test set.\n",
    "   - Record quantitative metrics such as loss, accuracy, or any other relevant task-specific metric for each optimizer.\n",
    "\n",
    "2. **TensorBoard Analysis:**  \n",
    "   - Use TensorBoard to review the training and validation curves during training.\n",
    "   - Focus on:\n",
    "     - **Convergence Behavior:** How quickly does each optimizer reduce the loss?\n",
    "     - **Stability:** Are there noticeable fluctuations or instability in the curves?\n",
    "     - **Overfitting/Underfitting:** Do you observe signs of overfitting or underfitting, and how do these behaviors differ across optimizers?\n",
    "\n",
    "### C. Document Your Findings\n",
    "\n",
    "- **Summarize Performance:**  \n",
    "  - Create a table or a brief report comparing the evaluation metrics for SGD, Adam, and RMSProp.\n",
    "- **Include Visual Evidence:**  \n",
    "  - Attach TensorBoard screenshots or summaries of the logged training/validation curves.\n",
    "- **Provide a Comparative Analysis:**  \n",
    "  - Discuss which optimizer provided the best performance on the test set.\n",
    "  - Reflect on the convergence rates and stability differences you observed.\n",
    "  - Explain potential reasons for these differences based on your results.\n",
    "\n",
    "By the end of this exercise, you will have a deeper understanding of how different optimizers affect model training dynamics and performance. This insight is essential for making informed decisions when tuning models in future projects."
   ]
  },
  {
   "cell_type": "markdown",
   "metadata": {},
   "source": [
    "For this part, I set up log for 3 different logs on tensor board to record different optimizer traning situations. \n",
    "I set up SGD and RMSprop into different logs so that I can make screen shots in a clear way-- the results are in the report."
   ]
  },
  {
   "cell_type": "code",
   "execution_count": null,
   "metadata": {},
   "outputs": [],
   "source": [
    "from pytorch_lightning.loggers import TensorBoardLogger\n",
    "\n",
    "# For SGD\n",
    "logger_sgd = TensorBoardLogger('logs/', name='rnn_classifier_sgd')\n",
    "\n",
    "# For Adam\n",
    "logger_adam = TensorBoardLogger('logs/', name='rnn_classifier_adam')\n",
    "\n",
    "# For RMSprop\n",
    "logger_rmsprop = TensorBoardLogger('logs/', name='rnn_classifier_rmsprop')"
   ]
  },
  {
   "cell_type": "code",
   "execution_count": 15,
   "metadata": {},
   "outputs": [],
   "source": [
    "class RNNClassifierLightning(pl.LightningModule):\n",
    "    def __init__(self, input_size=768, hidden_size=128, num_classes=2, lr=0.001, optimizer_name='adam'):\n",
    "        super(RNNClassifierLightning, self).__init__()\n",
    "        self.model = RNNClassifier(input_size, hidden_size, num_classes)\n",
    "        self.lr = lr\n",
    "        self.optimizer_name = optimizer_name  # <- add this line\n",
    "\n",
    "    def forward(self, x):\n",
    "        return self.model(x)\n",
    "\n",
    "    def training_step(self, batch, batch_idx):\n",
    "        x, y = batch\n",
    "        y_hat = self(x)\n",
    "        loss = nn.CrossEntropyLoss()(y_hat, y)\n",
    "        acc = (y_hat.argmax(dim=1) == y).float().mean()\n",
    "        self.log('train_loss', loss, on_step=True, on_epoch=True, prog_bar=True)\n",
    "        self.log('train_acc', acc, on_step=True, on_epoch=True, prog_bar=True)\n",
    "        self.log('val_loss', loss, on_step=True, on_epoch=True, prog_bar=True)\n",
    "        self.log('val_acc', acc, on_step=True, on_epoch=True, prog_bar=True)\n",
    "        return loss\n",
    "\n",
    "    def configure_optimizers(self):\n",
    "        if self.optimizer_name == 'sgd':\n",
    "            return torch.optim.SGD(self.parameters(), lr=self.lr)\n",
    "        elif self.optimizer_name == 'rmsprop':\n",
    "            return torch.optim.RMSprop(self.parameters(), lr=self.lr)\n",
    "        else:  # default to Adam\n",
    "            return torch.optim.Adam(self.parameters(), lr=self.lr)"
   ]
  },
  {
   "cell_type": "code",
   "execution_count": 16,
   "metadata": {},
   "outputs": [
    {
     "name": "stderr",
     "output_type": "stream",
     "text": [
      "GPU available: True (cuda), used: True\n",
      "TPU available: False, using: 0 TPU cores\n",
      "HPU available: False, using: 0 HPUs\n",
      "c:\\Users\\likua\\AppData\\Local\\Programs\\Python\\Python312\\Lib\\site-packages\\pytorch_lightning\\callbacks\\model_checkpoint.py:654: Checkpoint directory logs/rnn_classifier_sgd\\version_0\\checkpoints exists and is not empty.\n",
      "LOCAL_RANK: 0 - CUDA_VISIBLE_DEVICES: [0]\n",
      "\n",
      "  | Name  | Type          | Params | Mode \n",
      "------------------------------------------------\n",
      "0 | model | RNNClassifier | 460 K  | train\n",
      "------------------------------------------------\n",
      "460 K     Trainable params\n",
      "0         Non-trainable params\n",
      "460 K     Total params\n",
      "1.840     Total estimated model params size (MB)\n",
      "4         Modules in train mode\n",
      "0         Modules in eval mode\n",
      "c:\\Users\\likua\\AppData\\Local\\Programs\\Python\\Python312\\Lib\\site-packages\\pytorch_lightning\\trainer\\connectors\\data_connector.py:425: The 'train_dataloader' does not have many workers which may be a bottleneck. Consider increasing the value of the `num_workers` argument` to `num_workers=31` in the `DataLoader` to improve performance.\n"
     ]
    },
    {
     "name": "stdout",
     "output_type": "stream",
     "text": [
      "Epoch 19: 100%|██████████| 321/321 [00:04<00:00, 68.62it/s, v_num=0, train_loss_step=0.667, train_acc_step=0.500, val_loss_step=0.667, val_acc_step=0.500, train_loss_epoch=0.546, train_acc_epoch=0.793, val_loss_epoch=0.546, val_acc_epoch=0.793]"
     ]
    },
    {
     "name": "stderr",
     "output_type": "stream",
     "text": [
      "`Trainer.fit` stopped: `max_epochs=20` reached.\n"
     ]
    },
    {
     "name": "stdout",
     "output_type": "stream",
     "text": [
      "Epoch 19: 100%|██████████| 321/321 [00:04<00:00, 68.42it/s, v_num=0, train_loss_step=0.667, train_acc_step=0.500, val_loss_step=0.667, val_acc_step=0.500, train_loss_epoch=0.546, train_acc_epoch=0.793, val_loss_epoch=0.546, val_acc_epoch=0.793]\n"
     ]
    }
   ],
   "source": [
    "LightningModel = RNNClassifierLightning(optimizer_name='sgd')\n",
    "trainer = pl.Trainer(max_epochs=20, logger=logger_sgd)\n",
    "trainer.fit(LightningModel, train_dataloader)"
   ]
  },
  {
   "cell_type": "code",
   "execution_count": 17,
   "metadata": {},
   "outputs": [
    {
     "name": "stderr",
     "output_type": "stream",
     "text": [
      "GPU available: True (cuda), used: True\n",
      "TPU available: False, using: 0 TPU cores\n",
      "HPU available: False, using: 0 HPUs\n",
      "LOCAL_RANK: 0 - CUDA_VISIBLE_DEVICES: [0]\n",
      "\n",
      "  | Name  | Type          | Params | Mode \n",
      "------------------------------------------------\n",
      "0 | model | RNNClassifier | 460 K  | train\n",
      "------------------------------------------------\n",
      "460 K     Trainable params\n",
      "0         Non-trainable params\n",
      "460 K     Total params\n",
      "1.840     Total estimated model params size (MB)\n",
      "4         Modules in train mode\n",
      "0         Modules in eval mode\n"
     ]
    },
    {
     "name": "stdout",
     "output_type": "stream",
     "text": [
      "Epoch 19: 100%|██████████| 321/321 [00:08<00:00, 38.30it/s, v_num=0, train_loss_step=0.557, train_acc_step=0.750, val_loss_step=0.557, val_acc_step=0.750, train_loss_epoch=0.384, train_acc_epoch=0.926, val_loss_epoch=0.384, val_acc_epoch=0.926]"
     ]
    },
    {
     "name": "stderr",
     "output_type": "stream",
     "text": [
      "`Trainer.fit` stopped: `max_epochs=20` reached.\n"
     ]
    },
    {
     "name": "stdout",
     "output_type": "stream",
     "text": [
      "Epoch 19: 100%|██████████| 321/321 [00:08<00:00, 38.10it/s, v_num=0, train_loss_step=0.557, train_acc_step=0.750, val_loss_step=0.557, val_acc_step=0.750, train_loss_epoch=0.384, train_acc_epoch=0.926, val_loss_epoch=0.384, val_acc_epoch=0.926]\n"
     ]
    }
   ],
   "source": [
    "LightningModel = RNNClassifierLightning(optimizer_name='rmsprop')\n",
    "trainer = pl.Trainer(max_epochs=20, logger=logger_rmsprop)# DO remember set up different varibale here!\n",
    "trainer.fit(LightningModel, train_dataloader)"
   ]
  },
  {
   "cell_type": "markdown",
   "metadata": {},
   "source": [
    "## Submission Instructions\n",
    "\n",
    "**What to Submit:**\n",
    "\n",
    "1. Your complete iPython notebook for Milestone 3 (including all code, outputs, and markdown explanations).\n",
    "2. A single PDF file that contains your entire report for the milestone, covering:\n",
    "   - Part 1: Benchmarking FFNN vs. RNN on sequence data.\n",
    "   - Part 2: (Any additional tasks, if applicable.)\n",
    "   - Part 3: Comparing optimizers and analyzing training curves.\n",
    "\n",
    "**How to Submit:**\n",
    "\n",
    "- Upload both your iPython notebook and the PDF report to Canvas.\n",
    "- Name your files clearly, for example:\n",
    "  - `YourName_Milestone3.ipynb`\n",
    "  - `YourName_Milestone3_Report.pdf`\n",
    "\n",
    "**Deadline:**\n",
    "\n",
    "- All submissions are due **4/18/21**.\n",
    "\n",
    "Happy Deep Learning!"
   ]
  }
 ],
 "metadata": {
  "kernelspec": {
   "display_name": "Python 3",
   "language": "python",
   "name": "python3"
  },
  "language_info": {
   "codemirror_mode": {
    "name": "ipython",
    "version": 3
   },
   "file_extension": ".py",
   "mimetype": "text/x-python",
   "name": "python",
   "nbconvert_exporter": "python",
   "pygments_lexer": "ipython3",
   "version": "3.12.4"
  }
 },
 "nbformat": 4,
 "nbformat_minor": 2
}
